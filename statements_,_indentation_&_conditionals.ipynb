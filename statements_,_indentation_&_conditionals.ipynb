{
  "cells": [
    {
      "cell_type": "markdown",
      "metadata": {
        "id": "view-in-github",
        "colab_type": "text"
      },
      "source": [
        "<a href=\"https://colab.research.google.com/github/Dipu1764/statements/blob/main/statements_%2C_indentation_%26_conditionals.ipynb\" target=\"_parent\"><img src=\"https://colab.research.google.com/assets/colab-badge.svg\" alt=\"Open In Colab\"/></a>"
      ]
    },
    {
      "cell_type": "code",
      "execution_count": null,
      "metadata": {
        "colab": {
          "base_uri": "https://localhost:8080/"
        },
        "id": "ZqLIZShG42KF",
        "outputId": "4fc703a9-8983-459a-ee0c-57c5cde9b24c"
      },
      "outputs": [
        {
          "name": "stdout",
          "output_type": "stream",
          "text": [
            "enter the value of x:-12\n",
            "enter the value of y:-45\n",
            "3249\n"
          ]
        }
      ],
      "source": [
        "x = int(input('enter the value of x:-'))\n",
        "y = int(input('enter the value of y:-'))\n",
        "print((x+y)*(x+y))"
      ]
    },
    {
      "cell_type": "code",
      "execution_count": null,
      "metadata": {
        "colab": {
          "base_uri": "https://localhost:8080/"
        },
        "id": "AMp6WKc7z4L5",
        "outputId": "eb77b86e-6979-48be-8348-8e01548008ef"
      },
      "outputs": [
        {
          "name": "stdout",
          "output_type": "stream",
          "text": [
            "enter the speed45\n",
            "perfact\n"
          ]
        }
      ],
      "source": [
        "#car speed\n",
        "a = int(input(\"enter the speed\"))\n",
        "if a>=50:\n",
        "  print('go slow down')\n",
        "else:\n",
        "  print('perfact')"
      ]
    },
    {
      "cell_type": "code",
      "execution_count": null,
      "metadata": {
        "colab": {
          "base_uri": "https://localhost:8080/"
        },
        "id": "PNCaOKY24kXP",
        "outputId": "84eaa120-1be0-427e-b611-7846a1280d4d"
      },
      "outputs": [
        {
          "name": "stdout",
          "output_type": "stream",
          "text": [
            "enter the age :- 454\n",
            "your age is 65+ and you will pay Rs.70\n"
          ]
        }
      ],
      "source": [
        "#building a ticketing system\n",
        "age = int(input('enter the age :- '))\n",
        "if age<=5:\n",
        "  print('get free movie pass')\n",
        "elif age<=12:\n",
        "  print('you will pay Rs.50')\n",
        "elif age>=13 and age<=64:\n",
        "  print(\"you will pay Rs.100\")\n",
        "else:\n",
        "  print(\"your age is 65+ and you will pay Rs.70\")\n"
      ]
    },
    {
      "cell_type": "markdown",
      "metadata": {
        "id": "xCfDCEp8kVu7"
      },
      "source": [
        " are the rules! 📝\n",
        "\n",
        "🚘 If the car price is less than Rs. 10,00,000, there is no discount.\n",
        "\n",
        "🎁 If the car price is between Rs. 10,00,000 and Rs. 20,00,000, there is a discount of 5%.\n",
        "\n",
        "🎉 If the car price is between Rs. 20,00,000 and Rs. 30,00,000, there is a discount of 7.5%.\n",
        "\n",
        "🥳 If the car price is greater than Rs. 30,00,000, there is a discount of 10%.\n",
        "\n",
        "Are you ready to make your customers happy with these discounts? 🚗💰"
      ]
    },
    {
      "cell_type": "code",
      "execution_count": null,
      "metadata": {
        "colab": {
          "base_uri": "https://localhost:8080/"
        },
        "id": "jWooVxDukYia",
        "outputId": "a2b98689-b635-45a5-f353-c584855ff26b"
      },
      "outputs": [
        {
          "output_type": "stream",
          "name": "stdout",
          "text": [
            "enter the car price in Rs. :-2000000\n",
            "5% discount\n",
            "1900000.0\n"
          ]
        }
      ],
      "source": [
        "car_price = float(input(\"enter the car price in Rs. :-\"))\n",
        "#check\n",
        "if car_price<=1000000:\n",
        "  discount = car_price\n",
        "  print('no discount')\n",
        "\n",
        "elif car_price<=2000000:\n",
        "  discount = car_price*0.95\n",
        "  print(\"5% discount\")\n",
        "\n",
        "elif car_price<=3000000:\n",
        "  discount = car_price*0.925\n",
        "  print(\"7.5% discount\")\n",
        "\n",
        "else:\n",
        "  dicount = car_price*0.90\n",
        "  print(\"10% discount\")\n",
        "\n",
        "#discount price\n",
        "print(discount)\n",
        "\n"
      ]
    },
    {
      "cell_type": "code",
      "execution_count": null,
      "metadata": {
        "colab": {
          "base_uri": "https://localhost:8080/"
        },
        "id": "_fv1WMCdmlwx",
        "outputId": "1d58a856-a309-4c1d-b379-c886287dde37"
      },
      "outputs": [
        {
          "name": "stdout",
          "output_type": "stream",
          "text": [
            "57\n"
          ]
        }
      ],
      "source": [
        "#loop & iterations\n",
        "sum = 2\n",
        "for i in range(1,11):\n",
        "  sum +=i\n",
        "print(sum)"
      ]
    },
    {
      "cell_type": "code",
      "execution_count": null,
      "metadata": {
        "colab": {
          "base_uri": "https://localhost:8080/"
        },
        "id": "b5hnvLzloRvu",
        "outputId": "1d664897-d194-4231-b0ff-106b44ece25b"
      },
      "outputs": [
        {
          "name": "stdout",
          "output_type": "stream",
          "text": [
            "1\n",
            "3\n",
            "5\n",
            "7\n"
          ]
        }
      ],
      "source": [
        "my_list = [1,2,3,4,5,6,7,8,9]\n",
        "for i in range(1,8,2):\n",
        "  print(i)"
      ]
    },
    {
      "cell_type": "code",
      "execution_count": null,
      "metadata": {
        "colab": {
          "base_uri": "https://localhost:8080/"
        },
        "id": "xb_Qzq3mpCD1",
        "outputId": "0cfb5dc2-37b8-4d86-b7bb-af7644796e8e"
      },
      "outputs": [
        {
          "name": "stdout",
          "output_type": "stream",
          "text": [
            "deep\n",
            "deep\n",
            "deep\n",
            "deep\n",
            "deep\n",
            "deep\n",
            "deep\n",
            "deep\n",
            "deep\n",
            "deep\n"
          ]
        }
      ],
      "source": [
        "for i in range(1,11,1):\n",
        "  print(\"deep\")"
      ]
    },
    {
      "cell_type": "code",
      "execution_count": null,
      "metadata": {
        "colab": {
          "base_uri": "https://localhost:8080/"
        },
        "id": "AAtqNCIksCu7",
        "outputId": "d57e3392-3ef5-41b8-9331-cf8685040fc3"
      },
      "outputs": [
        {
          "name": "stdout",
          "output_type": "stream",
          "text": [
            "enter the word :-deeeeeeeeeeeeeeeeeeee\n",
            "1\n",
            "2\n",
            "3\n",
            "4\n",
            "5\n",
            "6\n",
            "7\n",
            "8\n",
            "9\n",
            "10\n",
            "11\n",
            "12\n",
            "13\n",
            "14\n",
            "15\n",
            "16\n",
            "17\n",
            "18\n",
            "19\n",
            "20\n"
          ]
        }
      ],
      "source": [
        "my_string = input(\"enter the word :-\")\n",
        "count = 0\n",
        "for char in my_string:\n",
        "  if char in \"aeiouAEIOU\":\n",
        "    count +=1\n",
        "    print(count)"
      ]
    },
    {
      "cell_type": "code",
      "execution_count": null,
      "metadata": {
        "colab": {
          "base_uri": "https://localhost:8080/"
        },
        "id": "h_AjQozHs4Dc",
        "outputId": "b76ecc7f-a7d7-411b-a191-fd7fa17ec3bd"
      },
      "outputs": [
        {
          "name": "stdout",
          "output_type": "stream",
          "text": [
            "2\n",
            "4\n",
            "6\n",
            "8\n",
            "10\n"
          ]
        }
      ],
      "source": [
        "sum = 0\n",
        "for i in range(2,11,2):\n",
        "  print(i)\n"
      ]
    },
    {
      "cell_type": "code",
      "source": [
        "tournament = [['alice','charlis'],['bobay','deepak']]\n",
        "team1 = []\n",
        "team2 = []\n",
        "for sublist in tournament:\n",
        "  for players in sublist:\n",
        "    char = players[0].lower()\n",
        "    if char=='a' or char=='b':\n",
        "      team1.append(players)\n",
        "    elif char=='c' or char=='d':\n",
        "      team2.append(players)\n",
        "\n",
        "print(team1)\n",
        "print(team2)\n"
      ],
      "metadata": {
        "colab": {
          "base_uri": "https://localhost:8080/"
        },
        "id": "hXDjEE-yrekz",
        "outputId": "6d37bac1-6144-4e3d-93f5-6404463cb7e3"
      },
      "execution_count": null,
      "outputs": [
        {
          "output_type": "stream",
          "name": "stdout",
          "text": [
            "['alice', 'bobay']\n",
            "['charlis', 'deepak']\n"
          ]
        }
      ]
    }
  ],
  "metadata": {
    "colab": {
      "provenance": [],
      "authorship_tag": "ABX9TyMm3yrC8n0cjwpIEwduLPRm",
      "include_colab_link": true
    },
    "kernelspec": {
      "display_name": "Python 3",
      "name": "python3"
    },
    "language_info": {
      "name": "python"
    }
  },
  "nbformat": 4,
  "nbformat_minor": 0
}